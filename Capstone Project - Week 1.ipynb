{
 "cells": [
  {
   "cell_type": "markdown",
   "metadata": {},
   "source": [
    "# Capstone Project"
   ]
  },
  {
   "cell_type": "markdown",
   "metadata": {},
   "source": [
    "In Module 3, we explored New York City and the city of Toronto and segmented and clustered their neighborhoods.<br>\n",
    "Both cities are very diverse and are the financial capitals of their respective countries. <br>\n",
    "One interesting idea would be to compare the neighborhoods of the two cities and determine how similar <br>\n",
    "or dissimilar they are. Is New York City more like Toronto or Paris or some other multicultural city? <br>\n",
    "I will leave it to you to refine this idea.\n",
    "In a city of your choice, if someone is looking to open a restaurant, where would you recommend that they open it? <br>\n",
    "Similarly, if a contractor is trying to start their own business, where would you recommend that they setup their <br>\n",
    "office?"
   ]
  },
  {
   "cell_type": "markdown",
   "metadata": {},
   "source": [
    "-  A description of the problem and a discussion of the background. (15 marks)\n",
    "\n"
   ]
  },
  {
   "cell_type": "markdown",
   "metadata": {},
   "source": [
    "The owner of a coffee shop in Flagstaff is looking to expand his business.<br>Flagstaff is a college town. He would like to find a similar college town to open a business."
   ]
  },
  {
   "cell_type": "markdown",
   "metadata": {},
   "source": [
    "-  A description of the data and how it will be used to solve the problem. (15 marks)"
   ]
  },
  {
   "cell_type": "markdown",
   "metadata": {},
   "source": [
    "1. Will use a list from http://www.collegeranker.com/features/best-college-towns/ that lists the 50 best college towns.\n",
    "2. Pull Foursqaure API data for each college town and find the top 10 most similar towns using clustering methods.\n",
    "3. Out of the 10 similar towns find the town with the least amount of competition."
   ]
  }
 ],
 "metadata": {
  "kernelspec": {
   "display_name": "Python 3",
   "language": "python",
   "name": "python3"
  },
  "language_info": {
   "codemirror_mode": {
    "name": "ipython",
    "version": 3
   },
   "file_extension": ".py",
   "mimetype": "text/x-python",
   "name": "python",
   "nbconvert_exporter": "python",
   "pygments_lexer": "ipython3",
   "version": "3.7.0"
  }
 },
 "nbformat": 4,
 "nbformat_minor": 2
}
